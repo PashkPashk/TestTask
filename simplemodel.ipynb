{
 "cells": [
  {
   "cell_type": "code",
   "execution_count": 30,
   "metadata": {},
   "outputs": [],
   "source": [
    "from sklearn.ensemble import RandomForestClassifier\n",
    "import pandas as pd\n",
    "import numpy  as np\n",
    "from sklearn.model_selection import train_test_split\n",
    "\n",
    "import pickle"
   ]
  },
  {
   "cell_type": "code",
   "execution_count": 31,
   "metadata": {},
   "outputs": [],
   "source": [
    "train_directory = \"d:/2_model_binary.xlsx\"\n",
    "train = pd.read_excel(train_directory, sheet_name = 'Train', header=0 )"
   ]
  },
  {
   "cell_type": "code",
   "execution_count": 32,
   "metadata": {},
   "outputs": [],
   "source": [
    "Y = train['y']\n",
    "Y.replace({ 'no':0 , 'yes':1}, inplace=True)\n",
    "X = train.drop('y', axis =1, inpl)\n",
    "X = pd.get_dummies(X)\n",
    "\n",
    "X_train, X_test, Y_train, Y_test = train_test_split(X, Y, test_size = 0.2)"
   ]
  },
  {
   "cell_type": "code",
   "execution_count": 33,
   "metadata": {},
   "outputs": [
    {
     "data": {
      "text/plain": [
       "RandomForestClassifier()"
      ]
     },
     "execution_count": 33,
     "metadata": {},
     "output_type": "execute_result"
    }
   ],
   "source": [
    "clf = RandomForestClassifier()\n",
    "clf.fit(X_train, Y_train)"
   ]
  },
  {
   "cell_type": "code",
   "execution_count": 34,
   "metadata": {},
   "outputs": [],
   "source": [
    "pickle.dump(clf, open('model.pkl','wb'))\n",
    "model = pickle.load(open('model.pkl','rb'))"
   ]
  },
  {
   "cell_type": "code",
   "execution_count": 52,
   "metadata": {},
   "outputs": [],
   "source": [
    "categorical_columns = train.columns[train.dtypes==object].tolist()\n",
    "cat = pd.get_dummies(train[categorical_columns])\n",
    "numeric = train.drop(categorical_columns, axis=1).columns.tolist()\n",
    "del numeric[-1]\n",
    "\n",
    "cat = dict(zip(X.columns,range(X.shape[1])))\n",
    "\n",
    "with open('cat', 'wb') as fid:\n",
    "    pickle.dump(cat , fid,2)  \n",
    "    \n",
    "with open('cat_cols', 'wb') as fid:\n",
    "    pickle.dump(categorical_columns , fid,2)\n",
    "\n",
    "with open('num_cols', 'wb') as fid:\n",
    "    pickle.dump(numeric , fid,2)"
   ]
  }
 ],
 "metadata": {
  "kernelspec": {
   "display_name": "Python 3",
   "language": "python",
   "name": "python3"
  },
  "language_info": {
   "codemirror_mode": {
    "name": "ipython",
    "version": 3
   },
   "file_extension": ".py",
   "mimetype": "text/x-python",
   "name": "python",
   "nbconvert_exporter": "python",
   "pygments_lexer": "ipython3",
   "version": "3.7.3"
  }
 },
 "nbformat": 4,
 "nbformat_minor": 2
}
